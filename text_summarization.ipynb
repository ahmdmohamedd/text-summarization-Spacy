{
 "cells": [
  {
   "cell_type": "code",
   "execution_count": 1,
   "id": "d8d9ad84-8384-48bc-bb59-3586f3880a6f",
   "metadata": {},
   "outputs": [],
   "source": [
    "import pandas as pd\n",
    "import numpy as np\n",
    "import spacy\n",
    "import re\n",
    "from sklearn.feature_extraction.text import TfidfVectorizer\n",
    "\n",
    "# Load the spaCy English language model\n",
    "nlp = spacy.load(\"en_core_web_sm\")"
   ]
  },
  {
   "cell_type": "code",
   "execution_count": 2,
   "id": "0b0c0659-2474-4cea-a814-3daaefb4f2bf",
   "metadata": {},
   "outputs": [
    {
     "name": "stdout",
     "output_type": "stream",
     "text": [
      "                                               title  \\\n",
      "0  Ukraine: Angry Zelensky vows to punish Russian...   \n",
      "1  War in Ukraine: Taking cover in a town under a...   \n",
      "2         Ukraine war 'catastrophic for global food'   \n",
      "3  Manchester Arena bombing: Saffie Roussos's par...   \n",
      "4  Ukraine conflict: Oil price soars to highest l...   \n",
      "\n",
      "                         pubDate  \\\n",
      "0  Mon, 07 Mar 2022 08:01:56 GMT   \n",
      "1  Sun, 06 Mar 2022 22:49:58 GMT   \n",
      "2  Mon, 07 Mar 2022 00:14:42 GMT   \n",
      "3  Mon, 07 Mar 2022 00:05:40 GMT   \n",
      "4  Mon, 07 Mar 2022 08:15:53 GMT   \n",
      "\n",
      "                                               guid  \\\n",
      "0  https://www.bbc.co.uk/news/world-europe-60638042   \n",
      "1  https://www.bbc.co.uk/news/world-europe-60641873   \n",
      "2      https://www.bbc.co.uk/news/business-60623941   \n",
      "3            https://www.bbc.co.uk/news/uk-60579079   \n",
      "4      https://www.bbc.co.uk/news/business-60642786   \n",
      "\n",
      "                                                link  \\\n",
      "0  https://www.bbc.co.uk/news/world-europe-606380...   \n",
      "1  https://www.bbc.co.uk/news/world-europe-606418...   \n",
      "2  https://www.bbc.co.uk/news/business-60623941?a...   \n",
      "3  https://www.bbc.co.uk/news/uk-60579079?at_medi...   \n",
      "4  https://www.bbc.co.uk/news/business-60642786?a...   \n",
      "\n",
      "                                         description  \n",
      "0  The Ukrainian president says the country will ...  \n",
      "1  Jeremy Bowen was on the frontline in Irpin, as...  \n",
      "2  One of the world's biggest fertiliser firms sa...  \n",
      "3  The parents of the Manchester Arena bombing's ...  \n",
      "4  Consumers are feeling the impact of higher ene...  \n",
      "Column names: ['title', 'pubDate', 'guid', 'link', 'description']\n"
     ]
    }
   ],
   "source": [
    "# Cell 2\n",
    "df = pd.read_csv('bbc_news.csv')\n",
    "print(df.head())\n",
    "print(\"Column names:\", df.columns.tolist())"
   ]
  },
  {
   "cell_type": "code",
   "execution_count": 3,
   "id": "86550b50-face-4ecb-a067-1ee6307d4e09",
   "metadata": {},
   "outputs": [],
   "source": [
    "def preprocess_text(text):\n",
    "    text = re.sub(r'\\s+', ' ', text)  # Remove extra whitespace\n",
    "    text = text.strip()  # Strip leading/trailing whitespace\n",
    "    return text\n",
    "\n",
    "# Use the correct column name based on your DataFrame's structure\n",
    "df['cleaned_text'] = df['description'].apply(preprocess_text)  # Replace <correct_column_name> accordingly\n"
   ]
  },
  {
   "cell_type": "code",
   "execution_count": 4,
   "id": "bf6245bc-9e07-4da0-b55e-d9c78b9622b3",
   "metadata": {},
   "outputs": [
    {
     "name": "stdout",
     "output_type": "stream",
     "text": [
      "Summary of the example article:\n",
      "The Ukrainian president says the country will not forgive or forget those who murder its civilians.\n"
     ]
    }
   ],
   "source": [
    "from sklearn.feature_extraction.text import TfidfVectorizer\n",
    "import numpy as np\n",
    "\n",
    "def extractive_summary(text, num_sentences=3):\n",
    "    # Tokenize sentences using spaCy\n",
    "    doc = nlp(text)\n",
    "    sentences = list(doc.sents)\n",
    "\n",
    "    # If fewer sentences than requested, adjust num_sentences\n",
    "    if len(sentences) < num_sentences:\n",
    "        num_sentences = len(sentences)\n",
    "\n",
    "    # Create a list of sentence texts for TF-IDF\n",
    "    sentence_texts = [sentence.text.strip() for sentence in sentences if sentence.text.strip()]\n",
    "\n",
    "    # Create TF-IDF vectorizer\n",
    "    vectorizer = TfidfVectorizer()\n",
    "    tfidf_matrix = vectorizer.fit_transform(sentence_texts)\n",
    "\n",
    "    # Calculate the total score for each sentence\n",
    "    sentence_scores = tfidf_matrix.sum(axis=1).A1  # Sum scores instead of average\n",
    "\n",
    "    # Filter out sentences with low scores\n",
    "    threshold = np.percentile(sentence_scores, 50)  # Change percentile as needed\n",
    "    high_score_indices = np.where(sentence_scores >= threshold)[0]\n",
    "\n",
    "    # If not enough high-scoring sentences, revert to the original scoring\n",
    "    if len(high_score_indices) < num_sentences:\n",
    "        high_score_indices = np.argsort(sentence_scores)[-num_sentences:]  # Get top-ranked sentences\n",
    "\n",
    "    # Select top sentences based on their scores\n",
    "    ranked_indices = np.argsort(sentence_scores[high_score_indices])[-num_sentences:]  # Get indices of the top sentences\n",
    "    ranked_indices.sort()  # Sort indices for ordered output\n",
    "\n",
    "    # Create the summary\n",
    "    summary = ' '.join([sentence_texts[i] for i in ranked_indices])\n",
    "    return summary\n",
    "\n",
    "\n",
    "\n",
    "# Test the summarization function on an article\n",
    "example_article = df['cleaned_text'].iloc[0]  # Use the correct column name\n",
    "summary = extractive_summary(example_article, num_sentences=3)\n",
    "print(\"Summary of the example article:\")\n",
    "print(summary)\n"
   ]
  },
  {
   "cell_type": "code",
   "execution_count": 5,
   "id": "73d8bdef-77c9-41ba-9905-1708bf207057",
   "metadata": {},
   "outputs": [
    {
     "name": "stdout",
     "output_type": "stream",
     "text": [
      "Summary of the external text:\n",
      "Artificial intelligence (AI) refers to the simulation of human intelligence in machines programmed to think and learn like humans. AI has become an integral part of our daily lives, influencing various sectors such as healthcare, finance, transportation, and entertainment.\n"
     ]
    }
   ],
   "source": [
    "def summarize_external_text(external_text, num_sentences=3):\n",
    "    return extractive_summary(external_text, num_sentences)\n",
    "\n",
    "# Example external text for summarization\n",
    "external_text = \"\"\"\n",
    "Artificial intelligence (AI) refers to the simulation of human intelligence in machines programmed to think and learn like humans. These machines are designed to perform tasks that typically require human intelligence, such as visual perception, speech recognition, decision-making, and language translation. AI has become an integral part of our daily lives, influencing various sectors such as healthcare, finance, transportation, and entertainment.\n",
    "\n",
    "The history of AI can be traced back to the mid-20th century, when pioneers like Alan Turing and John McCarthy began exploring the concept of machines capable of intelligent behavior. Turing proposed the Turing Test as a measure of a machine's ability to exhibit intelligent behavior indistinguishable from that of a human. This foundational idea sparked research in computer science and cognitive psychology, leading to the development of algorithms and models that simulate human thought processes.\n",
    "\n",
    "In recent years, advancements in machine learning—a subset of AI—have propelled the field forward. Machine learning algorithms enable computers to learn from data and improve their performance over time without being explicitly programmed. This has resulted in significant breakthroughs in various applications, including image and speech recognition, natural language processing, and autonomous systems.\n",
    "\n",
    "One of the most notable applications of AI is in healthcare, where it aids in diagnostics, personalized medicine, and drug discovery. AI algorithms can analyze medical images to detect conditions like tumors and fractures with remarkable accuracy. Additionally, AI-driven chatbots and virtual assistants are transforming patient interactions, providing real-time information and support.\n",
    "\n",
    "In the financial sector, AI is used for fraud detection, algorithmic trading, and risk management. Financial institutions leverage AI to analyze vast amounts of data, identify patterns, and make informed decisions quickly. This not only enhances operational efficiency but also improves customer experiences.\n",
    "\n",
    "Transportation is another area significantly impacted by AI, particularly with the rise of autonomous vehicles. Companies like Tesla and Waymo are at the forefront of developing self-driving technology, aiming to create safer and more efficient transportation systems. AI enables these vehicles to perceive their surroundings, make decisions, and navigate complex environments.\n",
    "\n",
    "Despite the numerous benefits of AI, there are also challenges and ethical concerns associated with its implementation. Issues related to data privacy, algorithmic bias, and job displacement due to automation have sparked debates among policymakers, researchers, and the public. Ensuring that AI technologies are developed and deployed responsibly is crucial for maximizing their potential benefits while minimizing risks.\n",
    "\n",
    "In conclusion, artificial intelligence represents a transformative force in society, with the potential to enhance productivity, improve quality of life, and solve complex problems. As AI continues to evolve, it will be essential to address the ethical implications and ensure that its advancements benefit all segments of society.\"\"\"\n",
    "external_summary = summarize_external_text(external_text, num_sentences=2)\n",
    "print(\"Summary of the external text:\")\n",
    "print(external_summary)"
   ]
  }
 ],
 "metadata": {
  "kernelspec": {
   "display_name": "Python 3 (ipykernel)",
   "language": "python",
   "name": "python3"
  },
  "language_info": {
   "codemirror_mode": {
    "name": "ipython",
    "version": 3
   },
   "file_extension": ".py",
   "mimetype": "text/x-python",
   "name": "python",
   "nbconvert_exporter": "python",
   "pygments_lexer": "ipython3",
   "version": "3.9.18"
  }
 },
 "nbformat": 4,
 "nbformat_minor": 5
}
